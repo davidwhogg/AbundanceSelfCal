{
  "nbformat": 4,
  "nbformat_minor": 0,
  "metadata": {
    "colab": {
      "provenance": [],
      "authorship_tag": "ABX9TyM9cmv1qXL5RdtwjU+99LWD",
      "include_colab_link": true
    },
    "kernelspec": {
      "name": "python3",
      "display_name": "Python 3"
    },
    "language_info": {
      "name": "python"
    }
  },
  "cells": [
    {
      "cell_type": "markdown",
      "metadata": {
        "id": "view-in-github",
        "colab_type": "text"
      },
      "source": [
        "<a href=\"https://colab.research.google.com/github/davidwhogg/AbundanceSelfCal/blob/master/for_apw.ipynb\" target=\"_parent\"><img src=\"https://colab.research.google.com/assets/colab-badge.svg\" alt=\"Open In Colab\"/></a>"
      ]
    },
    {
      "cell_type": "markdown",
      "source": [
        "# A shot at a simple parameterization for vertical dynamics"
      ],
      "metadata": {
        "id": "qQEfs7YfHZC7"
      }
    },
    {
      "cell_type": "code",
      "execution_count": null,
      "metadata": {
        "id": "DDjmzyPuHVbL"
      },
      "outputs": [],
      "source": [
        "import jax.numpy as jnp\n",
        "from jax import grad, vmap\n",
        "import pylab as plt"
      ]
    },
    {
      "cell_type": "code",
      "source": [
        "# Hard code some functions and parameters, inspired by Hogg's intuitions\n",
        "def omega(A):\n",
        "    return 1. / (1. + 0.5 * A)\n",
        "def epsilon(A):\n",
        "    return 0.01 * A ** 2"
      ],
      "metadata": {
        "id": "XwgxmfahHgcT"
      },
      "execution_count": null,
      "outputs": []
    },
    {
      "cell_type": "code",
      "source": [
        "# Make kinematic functions\n",
        "# CHECK OUT THE 3. It's duh, but only after a lot of not-duh.\n",
        "def z(t, A):\n",
        "    w = omega(A)\n",
        "    return A * jnp.sin(w * t) + A * epsilon(A) * jnp.sin(3 * w * t)\n",
        "v = grad(z)\n",
        "zs = vmap(z, in_axes=(0, None))\n",
        "vs = vmap(v, in_axes=(0, None))"
      ],
      "metadata": {
        "id": "YHaKGq-BH7wm"
      },
      "execution_count": null,
      "outputs": []
    },
    {
      "cell_type": "code",
      "source": [
        "# Plot some orbits\n",
        "theta_zs = 2. * jnp.pi * jnp.arange(0., 1., 0.0001)\n",
        "for A in jnp.arange(0., 3.1, 0.5):\n",
        "    ts = theta_zs / omega(A)\n",
        "    plt.plot(vs(ts, A), zs(ts, A), \"k.\")\n",
        "plt.xlabel(\"velocity $v_z$\")\n",
        "plt.ylabel(\"height $z$\")"
      ],
      "metadata": {
        "colab": {
          "base_uri": "https://localhost:8080/",
          "height": 305
        },
        "id": "8NX5VPeqIljZ",
        "outputId": "288d2e10-99df-4850-a6d5-9d86ce30806e"
      },
      "execution_count": null,
      "outputs": [
        {
          "output_type": "execute_result",
          "data": {
            "text/plain": [
              "Text(0, 0.5, 'height $z$')"
            ]
          },
          "metadata": {},
          "execution_count": 19
        },
        {
          "output_type": "display_data",
          "data": {
            "text/plain": [
              "<Figure size 432x288 with 1 Axes>"
            ],
            "image/png": "[encoded data removed]"
          },
          "metadata": {
            "needs_background": "light"
          }
        }
      ]
    },
    {
      "cell_type": "code",
      "source": [],
      "metadata": {
        "id": "w5i1gyKoI6KG"
      },
      "execution_count": null,
      "outputs": []
    }
  ]
}